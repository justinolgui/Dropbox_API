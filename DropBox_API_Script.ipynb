{
 "cells": [
  {
   "cell_type": "code",
   "execution_count": 2,
   "metadata": {},
   "outputs": [],
   "source": [
    "# Import all the necessary Python Modules\n",
    "import requests\n",
    "import json\n",
    "import dropbox\n",
    "import datetime\n",
    "import pandas as pd\n",
    "import pytz\n",
    "from pytz import timezone"
   ]
  },
  {
   "cell_type": "code",
   "execution_count": 3,
   "metadata": {},
   "outputs": [],
   "source": [
    "# Testing out access\n",
    "dbx = dropbox.Dropbox('Your Secret Access Token')"
   ]
  },
  {
   "cell_type": "code",
   "execution_count": 5,
   "metadata": {},
   "outputs": [],
   "source": [
    "# Check to see if account is linked\n",
    "dbx.users_get_current_account()"
   ]
  },
  {
   "cell_type": "code",
   "execution_count": 273,
   "metadata": {},
   "outputs": [],
   "source": [
    "# Create an empty list to store our file names\n",
    "files_folders = []\n",
    "# List all files in the account, use recursive to get files in subfolders\n",
    "for entry in dbx.files_list_folder('', recursive=True).entries:\n",
    "    files_folders.append(entry.path_display)"
   ]
  },
  {
   "cell_type": "code",
   "execution_count": 282,
   "metadata": {},
   "outputs": [],
   "source": [
    "# Create an empty list that we will fill with files older than 90 days\n",
    "files_to_del = []\n",
    "# Create a function to check date of files\n",
    "def greater_than_90(files): \n",
    "    # loop through all files in dropbox folder\n",
    "    for file in files:\n",
    "        '''\n",
    "        In dropbox, folders do not have a server_modified timestamp method. \n",
    "        So when we try to call this method it will throw an attribute error.\n",
    "        As a result we use the try, except block to pass over folders\n",
    "        '''\n",
    "        try:\n",
    "            # create a variable that will store our file path\n",
    "            f_path = file\n",
    "            \n",
    "            # create a variable that will store our file creation date\n",
    "            file_creation_date = dbx.files_get_metadata(file).server_modified.date()            \n",
    "            \n",
    "            # create a variable that will store today's date\n",
    "            today = date.today()\n",
    "            \n",
    "            # create a variable that will store the length of time the file has existed\n",
    "            time_passed = (today - file_creation_date).days\n",
    "            print('time_passed is: ' + str(time_passed))\n",
    "            # check if this file is older than 90 days\n",
    "            if time_passed < 90:\n",
    "                # add file path to our list of files to delete\n",
    "                files_to_del.append(f_path)                \n",
    "            \n",
    "        except AttributeError:\n",
    "            pass\n",
    "        \n",
    "    # Check to see if our files to delete list is empty\n",
    "    if not files_to_del:\n",
    "        print(\"\\nThere are no files older than 90 days! \\n\")\n",
    "    else:\n",
    "        # Call our delete files function with our files to delete list if i\n",
    "        delete_files(files_to_del)\n"
   ]
  },
  {
   "cell_type": "code",
   "execution_count": 308,
   "metadata": {},
   "outputs": [],
   "source": [
    "# Create two empty lists to capture our file name and the date_time of deletion\n",
    "del_file_name = []\n",
    "del_file_date = []\n",
    "# Create a function to delete files\n",
    "def delete_files(files_to_delete):\n",
    "    # Loop through all files in our files to delete list\n",
    "    for file in files_to_delete:\n",
    "        # Create a variable to store the metadata of our file deletion\n",
    "        del_file = dbx.files_delete(file)\n",
    "        \n",
    "        # Add the name of the file to our deleted file name list\n",
    "        del_file_name.append(del_file.name)\n",
    "        \n",
    "        # Convert time to PST \n",
    "        time_stamp = del_file.server_modified\n",
    "        time_stamp_pst = time_stamp.replace(tzinfo=pytz.UTC).astimezone(timezone('US/Pacific'))\n",
    "        print(time_stamp_pst)\n",
    "        \n",
    "        # Add the date and time that we deleted the file\n",
    "        del_file_date.append(del_file.server_modified)\n",
    "        \n",
    "    # Create a DataFrame that stores the file name and deleted date\n",
    "    df = pd.DataFrame(\n",
    "        {'Deleted File Name': del_file_name,\n",
    "         'Date_Time of Execution': del_file_date\n",
    "        })\n",
    "    \n",
    "    # Write our stored data to a Pandas DataFrame\n",
    "    df.to_csv('Deleted_Dropbox_Files.csv', index=False)"
   ]
  },
  {
   "cell_type": "code",
   "execution_count": 6,
   "metadata": {},
   "outputs": [],
   "source": [
    "#greater_than_90(files_folders)"
   ]
  },
  {
   "cell_type": "code",
   "execution_count": 7,
   "metadata": {},
   "outputs": [],
   "source": [
    "#files_folders"
   ]
  }
 ],
 "metadata": {
  "kernelspec": {
   "display_name": "Python 3",
   "language": "python",
   "name": "python3"
  },
  "language_info": {
   "codemirror_mode": {
    "name": "ipython",
    "version": 3
   },
   "file_extension": ".py",
   "mimetype": "text/x-python",
   "name": "python",
   "nbconvert_exporter": "python",
   "pygments_lexer": "ipython3",
   "version": "3.7.4"
  }
 },
 "nbformat": 4,
 "nbformat_minor": 2
}
