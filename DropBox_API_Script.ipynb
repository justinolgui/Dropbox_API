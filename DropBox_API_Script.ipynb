{
 "cells": [
  {
   "cell_type": "code",
   "execution_count": 230,
   "metadata": {},
   "outputs": [],
   "source": [
    "# Import all the necessary Python Modules\n",
    "import requests\n",
    "import json\n",
    "import dropbox\n",
    "import datetime\n",
    "import pandas as pd\n",
    "import pytz\n",
    "from pytz import timezone"
   ]
  },
  {
   "cell_type": "code",
   "execution_count": 272,
   "metadata": {},
   "outputs": [],
   "source": [
    "# Testing out access\n",
    "dbx = dropbox.Dropbox('jcvA9vUEXbAAAAAAAAAApyEOfWiaiHkMzNW1SsMJ3QKa0JKy2A9_-unHobvetySZ')"
   ]
  },
  {
   "cell_type": "code",
   "execution_count": 8,
   "metadata": {},
   "outputs": [
    {
     "data": {
      "text/plain": [
       "FullAccount(account_id='dbid:AADcsEYcnVEf_vC4trW-9qDGRcJNXa5ACW0', name=Name(given_name='Justin', surname='Olgui', familiar_name='Justin', display_name='Justin Olgui', abbreviated_name='JO'), email='justin.olgui@clio.com', email_verified=True, disabled=False, locale='en', referral_link='https://www.dropbox.com/referrals/AADfy6lsTMc5rR1BEQh6Z8rT2sQ9T4Xo5y0?src=app9-6215536', is_paired=False, account_type=AccountType('basic', None), root_info=UserRootInfo(root_namespace_id='5866205552', home_namespace_id='5866205552'), profile_photo_url=None, country='CA', team=None, team_member_id=None)"
      ]
     },
     "execution_count": 8,
     "metadata": {},
     "output_type": "execute_result"
    }
   ],
   "source": [
    "# Check to see if account is linked\n",
    "dbx.users_get_current_account()"
   ]
  },
  {
   "cell_type": "code",
   "execution_count": 273,
   "metadata": {},
   "outputs": [],
   "source": [
    "# Create an empty list to store our file names\n",
    "files_folders = []\n",
    "# List all files in the account, use recursive to get files in subfolders\n",
    "for entry in dbx.files_list_folder('', recursive=True).entries:\n",
    "    files_folders.append(entry.path_display)"
   ]
  },
  {
   "cell_type": "code",
   "execution_count": 282,
   "metadata": {},
   "outputs": [],
   "source": [
    "# Create an empty list that we will fill with files older than 90 days\n",
    "files_to_del = []\n",
    "# Create a function to check date of files\n",
    "def greater_than_90(files): \n",
    "    # loop through all files in dropbox folder\n",
    "    for file in files:\n",
    "        '''\n",
    "        In dropbox, folders do not have a server_modified timestamp method. \n",
    "        So when we try to call this method it will throw an attribute error.\n",
    "        As a result we use the try, except block to pass over folders\n",
    "        '''\n",
    "        try:\n",
    "            # create a variable that will store our file path\n",
    "            f_path = file\n",
    "            \n",
    "            # create a variable that will store our file creation date\n",
    "            file_creation_date = dbx.files_get_metadata(file).server_modified.date()            \n",
    "            \n",
    "            # create a variable that will store today's date\n",
    "            today = date.today()\n",
    "            \n",
    "            # create a variable that will store the length of time the file has existed\n",
    "            time_passed = (today - file_creation_date).days\n",
    "            print('time_passed is: ' + str(time_passed))\n",
    "            # check if this file is older than 90 days\n",
    "            if time_passed < 90:\n",
    "                # add file path to our list of files to delete\n",
    "                files_to_del.append(f_path)                \n",
    "            \n",
    "        except AttributeError:\n",
    "            pass\n",
    "        \n",
    "    # Check to see if our files to delete list is empty\n",
    "    if not files_to_del:\n",
    "        print(\"\\nThere are no files older than 90 days! \\n\")\n",
    "    else:\n",
    "        # Call our delete files function with our files to delete list if i\n",
    "        delete_files(files_to_del)\n"
   ]
  },
  {
   "cell_type": "code",
   "execution_count": 308,
   "metadata": {},
   "outputs": [],
   "source": [
    "# Create two empty lists to capture our file name and the date_time of deletion\n",
    "del_file_name = []\n",
    "del_file_date = []\n",
    "# Create a function to delete files\n",
    "def delete_files(files_to_delete):\n",
    "    # Loop through all files in our files to delete list\n",
    "    for file in files_to_delete:\n",
    "        # Create a variable to store the metadata of our file deletion\n",
    "        del_file = dbx.files_delete(file)\n",
    "        \n",
    "        # Add the name of the file to our deleted file name list\n",
    "        del_file_name.append(del_file.name)\n",
    "        \n",
    "        # Convert time to PST \n",
    "        time_stamp = del_file.server_modified\n",
    "        time_stamp_pst = time_stamp.replace(tzinfo=pytz.UTC).astimezone(timezone('US/Pacific'))\n",
    "        print(time_stamp_pst)\n",
    "        \n",
    "        # Add the date and time that we deleted the file\n",
    "        del_file_date.append(del_file.server_modified)\n",
    "        \n",
    "    # Create a DataFrame that stores the file name and deleted date\n",
    "    df = pd.DataFrame(\n",
    "        {'Deleted File Name': del_file_name,\n",
    "         'Date_Time of Execution': del_file_date\n",
    "        })\n",
    "    \n",
    "    # Write our stored data to a Pandas DataFrame\n",
    "    df.to_csv('Deleted_Dropbox_Files.csv', index=False)"
   ]
  },
  {
   "cell_type": "code",
   "execution_count": 309,
   "metadata": {},
   "outputs": [
    {
     "name": "stdout",
     "output_type": "stream",
     "text": [
      "time_passed is: 0\n",
      "time_passed is: 0\n",
      "time_passed is: 0\n",
      "2019-09-29 11:09:30-07:00\n",
      "2019-09-29 11:09:31-07:00\n",
      "2019-09-29 11:09:31-07:00\n"
     ]
    },
    {
     "ename": "ApiError",
     "evalue": "ApiError('b1c1ed24df1b85179fd8ff25d8e79ccc', DeleteError('path_lookup', LookupError('not_found', None)))",
     "output_type": "error",
     "traceback": [
      "\u001b[0;31m---------------------------------------------------------------------------\u001b[0m",
      "\u001b[0;31mApiError\u001b[0m                                  Traceback (most recent call last)",
      "\u001b[0;32m<ipython-input-309-2273b206547c>\u001b[0m in \u001b[0;36m<module>\u001b[0;34m\u001b[0m\n\u001b[0;32m----> 1\u001b[0;31m \u001b[0mgreater_than_90\u001b[0m\u001b[0;34m(\u001b[0m\u001b[0mfiles_folders\u001b[0m\u001b[0;34m)\u001b[0m\u001b[0;34m\u001b[0m\u001b[0;34m\u001b[0m\u001b[0m\n\u001b[0m",
      "\u001b[0;32m<ipython-input-282-5085fa521d19>\u001b[0m in \u001b[0;36mgreater_than_90\u001b[0;34m(files)\u001b[0m\n\u001b[1;32m     36\u001b[0m     \u001b[0;32melse\u001b[0m\u001b[0;34m:\u001b[0m\u001b[0;34m\u001b[0m\u001b[0;34m\u001b[0m\u001b[0m\n\u001b[1;32m     37\u001b[0m         \u001b[0;31m# Call our delete files function with our files to delete list if i\u001b[0m\u001b[0;34m\u001b[0m\u001b[0;34m\u001b[0m\u001b[0;34m\u001b[0m\u001b[0m\n\u001b[0;32m---> 38\u001b[0;31m         \u001b[0mdelete_files\u001b[0m\u001b[0;34m(\u001b[0m\u001b[0mfiles_to_del\u001b[0m\u001b[0;34m)\u001b[0m\u001b[0;34m\u001b[0m\u001b[0;34m\u001b[0m\u001b[0m\n\u001b[0m",
      "\u001b[0;32m<ipython-input-308-f9bcb4221859>\u001b[0m in \u001b[0;36mdelete_files\u001b[0;34m(files_to_delete)\u001b[0m\n\u001b[1;32m      7\u001b[0m     \u001b[0;32mfor\u001b[0m \u001b[0mfile\u001b[0m \u001b[0;32min\u001b[0m \u001b[0mfiles_to_delete\u001b[0m\u001b[0;34m:\u001b[0m\u001b[0;34m\u001b[0m\u001b[0;34m\u001b[0m\u001b[0m\n\u001b[1;32m      8\u001b[0m         \u001b[0;31m# Create a variable to store the metadata of our file deletion\u001b[0m\u001b[0;34m\u001b[0m\u001b[0;34m\u001b[0m\u001b[0;34m\u001b[0m\u001b[0m\n\u001b[0;32m----> 9\u001b[0;31m         \u001b[0mdel_file\u001b[0m \u001b[0;34m=\u001b[0m \u001b[0mdbx\u001b[0m\u001b[0;34m.\u001b[0m\u001b[0mfiles_delete\u001b[0m\u001b[0;34m(\u001b[0m\u001b[0mfile\u001b[0m\u001b[0;34m)\u001b[0m\u001b[0;34m\u001b[0m\u001b[0;34m\u001b[0m\u001b[0m\n\u001b[0m\u001b[1;32m     10\u001b[0m \u001b[0;34m\u001b[0m\u001b[0m\n\u001b[1;32m     11\u001b[0m         \u001b[0;31m# Add the name of the file to our deleted file name list\u001b[0m\u001b[0;34m\u001b[0m\u001b[0;34m\u001b[0m\u001b[0;34m\u001b[0m\u001b[0m\n",
      "\u001b[0;32m/Library/Frameworks/Python.framework/Versions/3.7/lib/python3.7/site-packages/dropbox/base.py\u001b[0m in \u001b[0;36mfiles_delete\u001b[0;34m(self, path, parent_rev)\u001b[0m\n\u001b[1;32m   1136\u001b[0m             \u001b[0;34m'files'\u001b[0m\u001b[0;34m,\u001b[0m\u001b[0;34m\u001b[0m\u001b[0;34m\u001b[0m\u001b[0m\n\u001b[1;32m   1137\u001b[0m             \u001b[0marg\u001b[0m\u001b[0;34m,\u001b[0m\u001b[0;34m\u001b[0m\u001b[0;34m\u001b[0m\u001b[0m\n\u001b[0;32m-> 1138\u001b[0;31m             \u001b[0;32mNone\u001b[0m\u001b[0;34m,\u001b[0m\u001b[0;34m\u001b[0m\u001b[0;34m\u001b[0m\u001b[0m\n\u001b[0m\u001b[1;32m   1139\u001b[0m         )\n\u001b[1;32m   1140\u001b[0m         \u001b[0;32mreturn\u001b[0m \u001b[0mr\u001b[0m\u001b[0;34m\u001b[0m\u001b[0;34m\u001b[0m\u001b[0m\n",
      "\u001b[0;32m/Library/Frameworks/Python.framework/Versions/3.7/lib/python3.7/site-packages/dropbox/dropbox.py\u001b[0m in \u001b[0;36mrequest\u001b[0;34m(self, route, namespace, request_arg, request_binary, timeout)\u001b[0m\n\u001b[1;32m    294\u001b[0m                            \u001b[0mdeserialized_result\u001b[0m\u001b[0;34m,\u001b[0m\u001b[0;34m\u001b[0m\u001b[0;34m\u001b[0m\u001b[0m\n\u001b[1;32m    295\u001b[0m                            \u001b[0muser_message_text\u001b[0m\u001b[0;34m,\u001b[0m\u001b[0;34m\u001b[0m\u001b[0;34m\u001b[0m\u001b[0m\n\u001b[0;32m--> 296\u001b[0;31m                            user_message_locale)\n\u001b[0m\u001b[1;32m    297\u001b[0m         \u001b[0;32melif\u001b[0m \u001b[0mroute_style\u001b[0m \u001b[0;34m==\u001b[0m \u001b[0mself\u001b[0m\u001b[0;34m.\u001b[0m\u001b[0m_ROUTE_STYLE_DOWNLOAD\u001b[0m\u001b[0;34m:\u001b[0m\u001b[0;34m\u001b[0m\u001b[0;34m\u001b[0m\u001b[0m\n\u001b[1;32m    298\u001b[0m             \u001b[0;32mreturn\u001b[0m \u001b[0;34m(\u001b[0m\u001b[0mdeserialized_result\u001b[0m\u001b[0;34m,\u001b[0m \u001b[0mres\u001b[0m\u001b[0;34m.\u001b[0m\u001b[0mhttp_resp\u001b[0m\u001b[0;34m)\u001b[0m\u001b[0;34m\u001b[0m\u001b[0;34m\u001b[0m\u001b[0m\n",
      "\u001b[0;31mApiError\u001b[0m: ApiError('b1c1ed24df1b85179fd8ff25d8e79ccc', DeleteError('path_lookup', LookupError('not_found', None)))"
     ]
    }
   ],
   "source": [
    "greater_than_90(files_folders)"
   ]
  },
  {
   "cell_type": "code",
   "execution_count": 307,
   "metadata": {},
   "outputs": [
    {
     "data": {
      "text/plain": [
       "['/Test',\n",
       " '/today_in_review_1.txt',\n",
       " '/today_in_review_2.txt',\n",
       " '/today_in_review_3.txt']"
      ]
     },
     "execution_count": 307,
     "metadata": {},
     "output_type": "execute_result"
    }
   ],
   "source": [
    "files_folders"
   ]
  },
  {
   "cell_type": "code",
   "execution_count": 286,
   "metadata": {},
   "outputs": [],
   "source": [
    "j = dbx.files_get_metadata('/today_in_review_1.txt')"
   ]
  },
  {
   "cell_type": "code",
   "execution_count": 287,
   "metadata": {
    "scrolled": false
   },
   "outputs": [
    {
     "data": {
      "text/plain": [
       "FileMetadata(name='today_in_review_1.txt', id='id:ip-5PKmuQ9AAAAAAAAAAIg', client_modified=datetime.datetime(2019, 9, 29, 17, 44, 33), server_modified=datetime.datetime(2019, 9, 29, 17, 44, 33), rev='01593b4ac0e2101000000015da73170', size=178, path_lower='/today_in_review_1.txt', path_display='/today_in_review_1.txt', parent_shared_folder_id=None, media_info=None, symlink_info=None, sharing_info=None, is_downloadable=True, export_info=None, property_groups=None, has_explicit_shared_members=None, content_hash='73ff6da02a27a25f4cc206969efd6cd88ba4ef7fa93ff88762094f7c73559a57')"
      ]
     },
     "execution_count": 287,
     "metadata": {},
     "output_type": "execute_result"
    }
   ],
   "source": [
    "j"
   ]
  },
  {
   "cell_type": "code",
   "execution_count": 288,
   "metadata": {},
   "outputs": [],
   "source": [
    "date_test = j.server_modified"
   ]
  },
  {
   "cell_type": "code",
   "execution_count": 289,
   "metadata": {},
   "outputs": [
    {
     "data": {
      "text/plain": [
       "datetime.datetime(2019, 9, 29, 17, 44, 33)"
      ]
     },
     "execution_count": 289,
     "metadata": {},
     "output_type": "execute_result"
    }
   ],
   "source": [
    "date_test"
   ]
  },
  {
   "cell_type": "code",
   "execution_count": 291,
   "metadata": {},
   "outputs": [
    {
     "data": {
      "text/plain": [
       "datetime.datetime(2019, 9, 29, 10, 44, 33, tzinfo=<DstTzInfo 'US/Pacific' PDT-1 day, 17:00:00 DST>)"
      ]
     },
     "execution_count": 291,
     "metadata": {},
     "output_type": "execute_result"
    }
   ],
   "source": [
    "date_test.replace(tzinfo=pytz.UTC).astimezone(timezone('US/Pacific'))"
   ]
  },
  {
   "cell_type": "code",
   "execution_count": 249,
   "metadata": {},
   "outputs": [],
   "source": [
    "del_test = ['/today_in_review_1.txt', '/today_in_review_2.txt', '/today_in_review_3.txt']"
   ]
  },
  {
   "cell_type": "code",
   "execution_count": 313,
   "metadata": {},
   "outputs": [
    {
     "data": {
      "text/plain": [
       "datetime.datetime(2019, 9, 29, 11, 46, 4, 666744)"
      ]
     },
     "execution_count": 313,
     "metadata": {},
     "output_type": "execute_result"
    }
   ],
   "source": [
    "datetime.datetime.now()"
   ]
  },
  {
   "cell_type": "code",
   "execution_count": 314,
   "metadata": {},
   "outputs": [
    {
     "data": {
      "text/plain": [
       "datetime.datetime(2019, 9, 29, 18, 46, 6, 477610)"
      ]
     },
     "execution_count": 314,
     "metadata": {},
     "output_type": "execute_result"
    }
   ],
   "source": [
    "datetime.datetime.utcnow()"
   ]
  },
  {
   "cell_type": "code",
   "execution_count": null,
   "metadata": {},
   "outputs": [],
   "source": []
  }
 ],
 "metadata": {
  "kernelspec": {
   "display_name": "Python 3",
   "language": "python",
   "name": "python3"
  },
  "language_info": {
   "codemirror_mode": {
    "name": "ipython",
    "version": 3
   },
   "file_extension": ".py",
   "mimetype": "text/x-python",
   "name": "python",
   "nbconvert_exporter": "python",
   "pygments_lexer": "ipython3",
   "version": "3.7.4"
  }
 },
 "nbformat": 4,
 "nbformat_minor": 2
}
